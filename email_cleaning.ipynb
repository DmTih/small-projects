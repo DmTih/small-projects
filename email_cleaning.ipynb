{
 "cells": [
  {
   "cell_type": "markdown",
   "id": "837a383f-ec77-4386-a891-8fac9d8fa310",
   "metadata": {},
   "source": [
    "# Цель:\n",
    "Очистить список email-адресов от ошибок для подготовки к email-рассылке. \n",
    "# Решение:\n",
    "1. Получил данные из Excel\n",
    "2. Провел первичный анализ датасета\n",
    "3. Сформулировал и проверил гипотезы о возможных ошибках\n",
    "4. Выполнил очистку адресов:\n",
    "   - Удалил дубликаты email\n",
    "   - Удалил лишние пробелы (в начале, конце или середине адреса)\n",
    "   - Привел все буквы нижнему регистру\n",
    "   - Заменил запятые на точки в доменной части\n",
    "   - Поместил в отдельный список тестовые адреса (содержат комбинацию test и доменное имя магазина)\n",
    "5. Выгрузил очищенный датасет в csv формат\n",
    "\n",
    "Все персональные данные анонимизированы. Использован синтетический датасет, воспроизводящий паттерны ошибок из оригинальных данных."
   ]
  },
  {
   "cell_type": "markdown",
   "id": "b25a8a6c-dbc9-460f-aa2d-aab0d62e5280",
   "metadata": {},
   "source": [
    "## Загрузка библиотек и файла"
   ]
  },
  {
   "cell_type": "code",
   "execution_count": 332,
   "id": "8fa313e3-41a1-4d77-9d07-c43232ae467a",
   "metadata": {},
   "outputs": [],
   "source": [
    "import pandas as pd\n",
    "\n",
    "df = pd.read_excel('emails_dataset.xlsx')\n",
    "df = df.rename(columns={'Электронные адреса клиентов:': 'email'})"
   ]
  },
  {
   "cell_type": "markdown",
   "id": "6030d24c-80cf-4853-b81d-91e1f2718925",
   "metadata": {},
   "source": [
    "## Первичный анализ "
   ]
  },
  {
   "cell_type": "code",
   "execution_count": 334,
   "id": "0ad805d8-e504-4909-a6ed-18c436238c56",
   "metadata": {},
   "outputs": [
    {
     "data": {
      "text/html": [
       "<div>\n",
       "<style scoped>\n",
       "    .dataframe tbody tr th:only-of-type {\n",
       "        vertical-align: middle;\n",
       "    }\n",
       "\n",
       "    .dataframe tbody tr th {\n",
       "        vertical-align: top;\n",
       "    }\n",
       "\n",
       "    .dataframe thead th {\n",
       "        text-align: right;\n",
       "    }\n",
       "</style>\n",
       "<table border=\"1\" class=\"dataframe\">\n",
       "  <thead>\n",
       "    <tr style=\"text-align: right;\">\n",
       "      <th></th>\n",
       "      <th>email</th>\n",
       "    </tr>\n",
       "  </thead>\n",
       "  <tbody>\n",
       "    <tr>\n",
       "      <th>0</th>\n",
       "      <td>7y5bn@mail.ru</td>\n",
       "    </tr>\n",
       "    <tr>\n",
       "      <th>1</th>\n",
       "      <td>g1tg-95_vqc@yandex.ru</td>\n",
       "    </tr>\n",
       "    <tr>\n",
       "      <th>2</th>\n",
       "      <td>a-k-l88r@yandex.ru</td>\n",
       "    </tr>\n",
       "    <tr>\n",
       "      <th>3</th>\n",
       "      <td>9awzw7@mail.ru</td>\n",
       "    </tr>\n",
       "    <tr>\n",
       "      <th>4</th>\n",
       "      <td>tgzd_9-n01@yandex.ru</td>\n",
       "    </tr>\n",
       "    <tr>\n",
       "      <th>...</th>\n",
       "      <td>...</td>\n",
       "    </tr>\n",
       "    <tr>\n",
       "      <th>1003</th>\n",
       "      <td>0r6tqaxwx@24shop.by</td>\n",
       "    </tr>\n",
       "    <tr>\n",
       "      <th>1004</th>\n",
       "      <td>test81@24shop.by</td>\n",
       "    </tr>\n",
       "    <tr>\n",
       "      <th>1005</th>\n",
       "      <td>1g2ir3tuvwg@gmail.com</td>\n",
       "    </tr>\n",
       "    <tr>\n",
       "      <th>1006</th>\n",
       "      <td>m_ijn7xjt@mail.ru</td>\n",
       "    </tr>\n",
       "    <tr>\n",
       "      <th>1007</th>\n",
       "      <td></td>\n",
       "    </tr>\n",
       "  </tbody>\n",
       "</table>\n",
       "<p>1008 rows × 1 columns</p>\n",
       "</div>"
      ],
      "text/plain": [
       "                      email\n",
       "0             7y5bn@mail.ru\n",
       "1     g1tg-95_vqc@yandex.ru\n",
       "2        a-k-l88r@yandex.ru\n",
       "3            9awzw7@mail.ru\n",
       "4      tgzd_9-n01@yandex.ru\n",
       "...                     ...\n",
       "1003    0r6tqaxwx@24shop.by\n",
       "1004       test81@24shop.by\n",
       "1005  1g2ir3tuvwg@gmail.com\n",
       "1006      m_ijn7xjt@mail.ru\n",
       "1007                       \n",
       "\n",
       "[1008 rows x 1 columns]"
      ]
     },
     "execution_count": 334,
     "metadata": {},
     "output_type": "execute_result"
    }
   ],
   "source": [
    "df"
   ]
  },
  {
   "cell_type": "code",
   "execution_count": 336,
   "id": "b128b21c-188d-4e93-b912-e924c01cf281",
   "metadata": {},
   "outputs": [
    {
     "name": "stdout",
     "output_type": "stream",
     "text": [
      "<class 'pandas.core.frame.DataFrame'>\n",
      "RangeIndex: 1008 entries, 0 to 1007\n",
      "Data columns (total 1 columns):\n",
      " #   Column  Non-Null Count  Dtype \n",
      "---  ------  --------------  ----- \n",
      " 0   email   1007 non-null   object\n",
      "dtypes: object(1)\n",
      "memory usage: 8.0+ KB\n"
     ]
    }
   ],
   "source": [
    "df.info()"
   ]
  },
  {
   "cell_type": "code",
   "execution_count": 338,
   "id": "6b7f3f77-3b6b-40a1-84f5-08d2ce832fc2",
   "metadata": {},
   "outputs": [
    {
     "data": {
      "text/plain": [
       "count    1007.000000\n",
       "mean       18.150943\n",
       "std         2.692131\n",
       "min         1.000000\n",
       "25%        16.000000\n",
       "50%        18.000000\n",
       "75%        20.000000\n",
       "max        33.000000\n",
       "Name: email, dtype: float64"
      ]
     },
     "execution_count": 338,
     "metadata": {},
     "output_type": "execute_result"
    }
   ],
   "source": [
    "# Анализ длины email-адресов\n",
    "df['email'].str.len().describe()"
   ]
  },
  {
   "cell_type": "markdown",
   "id": "87be2e43-657c-4f74-8137-fa3b0518c0c6",
   "metadata": {},
   "source": [
    "## Выявление ошибок"
   ]
  },
  {
   "cell_type": "code",
   "execution_count": 341,
   "id": "8b71eb1b-3327-412d-80e4-81b296319b8f",
   "metadata": {},
   "outputs": [
    {
     "name": "stdout",
     "output_type": "stream",
     "text": [
      "Email без @: 7\n",
      "Email с пробелами: 4\n",
      "Email с запятыми: 11\n",
      "Тестовые email: 53\n",
      "Дубликаты: 13\n"
     ]
    }
   ],
   "source": [
    "invalid_emails = df[~df['email'].str.contains('@', na=False)]\n",
    "print(f\"Email без @: {len(invalid_emails)}\")\n",
    "\n",
    "spaced_emails = df[df['email'].str.contains(' ', na=False)]\n",
    "print(f\"Email с пробелами: {len(spaced_emails)}\")\n",
    "\n",
    "comma_emails = df[df['email'].str.contains(',', na=False)]\n",
    "print(f\"Email с запятыми: {len(comma_emails)}\")\n",
    "\n",
    "test_emails = df[df['email'].str.contains('test', case=False, na=False) \n",
    "                & df['email'].str.contains('@24shop.by', case=False, na=False)]\n",
    "print(f\"Тестовые email: {len(test_emails)}\")\n",
    "\n",
    "print(f\"Дубликаты: {df.duplicated().sum()}\")"
   ]
  },
  {
   "cell_type": "markdown",
   "id": "8ec63d56-c349-4e4d-9ac5-0bbd98bf1534",
   "metadata": {},
   "source": [
    "## Решение"
   ]
  },
  {
   "cell_type": "code",
   "execution_count": 344,
   "id": "a685dc6b-0cbd-47d9-b3d2-5333bab6d640",
   "metadata": {},
   "outputs": [],
   "source": [
    "emails = df['email'].tolist() # датасет преобразую в список"
   ]
  },
  {
   "cell_type": "code",
   "execution_count": 346,
   "id": "8152381e-bd36-40e8-8594-b7f99a67ccd0",
   "metadata": {
    "scrolled": true
   },
   "outputs": [
    {
     "name": "stdout",
     "output_type": "stream",
     "text": [
      "-----\n",
      "Тестовые: {'test87@24shop.by', 'test1@24shop.by', 'test25@24shop.by', 'test35@24shop.by', 'test91@24shop.by', 'test9@24shop.by', 'test52@24shop.by', 'test56@24shop.by', 'test94@24shop.by', 'test19@24shop.by', 'test54@24shop.by', 'test97@24shop.by', 'test58@24shop.by', 'test46@24shop.by', 'test71@24shop.by', 'test55@24shop.by', 'test83@24shop.by', 'test49@24shop.by', 'test14@24shop.by', 'test93@24shop.by', 'test21@24shop.by', 'test48@24shop.by', 'test61@24shop.by', 'test33@24shop.by', 'test42@24shop.by', 'test81@24shop.by', 'test27@24shop.by', 'test60@24shop.by', 'test24@24shop.by', 'test57@24shop.by', 'test44@24shop.by', 'test29@24shop.by', 'test8@24shop.by', 'test51@24shop.by', 'test65@24shop.by', 'test32@24shop.by', 'test10@24shop.by', 'test92@24shop.by', 'test22@24shop.by', 'test100@24shop.by', 'test68@24shop.by'}\n",
      "-----\n",
      "Чистые: {'sccsn48w50-w@24shop.by', 'hl-a7z3ksh@24shop.by', 'q9w5v@mail.ru', 'mbthf0clvj3u@24shop.by', 'g8g-lo@24shop.by', 'zi-sdyv@yandex.ru', 'wq0p7wfpl_@mail.ru', 'yn7bd@24shop.by', '6jf56@gmail.com', 'pikki@yandex.ru', 'of62tih8qqb@24shop.by', 'g1tg-95_vqc@yandex.ru', '1m4i-ixywxz@mail.ru', 'p2l6w6@yandex.ru', 'kukxa@rambler.ru', 'y91ebgl_h9@gmail.com', '3xxnm7a@yandex.ru', '6z53m@rambler.ru', 'k149_z@24shop.by', 'g5ws_gkvp41v@gmail.com', '4xbipcvzkid@gmail.com', '-zp7gftj1@24shop.by', 'g0sda@yandex.ru', '9gu2q4z2@gmail.com', 'li0jbw3z5i@gmail.com', 'zenrm@mail.ru', '_cokmzfxp@rambler.ru', 'ws0g233b2y1@gmail.com', '99p3e9f1knw@mail.ru', '9s_fygjjwc@24shop.by', 'wytbl53tz3tn@gmail.com', 'contact@', 'p17brzpxmh@rambler.ru', '7hx-_@gmail.com', '_6exawusg@yandex.ru', '9otr1l3@mail.ru', 'djflh53@gmail.com', '-g77-vv@mail.ru', '4uwi005_5pm@mail.ru', 'af_u5v2gcjdn@24shop.by', 'd7f44j3@mail.ru', '2nt9rx74@mail.ru', '1h1-pt@yandex.ru', 'tf0kuam@rambler.ru', 'rmpfw48hwn8k@gmail.com', 'f39-o5ridqx@yandex.ru', 'd9iqed@rambler.ru', 'yajokje394@rambler.ru', 'gxxj569z@24shop.by', 'daveeb7l@gmail.com', '2-ojd@yandex.ru', 'q7_py@mail.ru', '9q4air@gmail.com', 'kutu620fvcqk@gmail.com', '165i0jg8@yandex.ru', 'eg4lkdx@gmail.com', 'wg1_tres6xq@24shop.by', 'xnu06rub@yandex.ru', '082xrf28p@yandex.ru', 'm7x7-k@mail.ru', 'agghmwo@rambler.ru', 'b5i45x@mail.ru', 'uqmbo-3@rambler.ru', 'yfoyvmd0tos@24shop.by', 'btcc36xm1vna@gmail.com', '67w91cq_6_@mail.ru', 'o_9v4f@24shop.by', 'splfz__aa@24shop.by', 'oilesi-_w8tw@mail.ru', 'ny3rw2dwj1m@gmail.com', '7b5xnsollm0@rambler.ru', '34jzxm1t9@rambler.ru', 'o6jf42-q3fm0@rambler.ru', '3lm17yox5@rambler.ru', '7bd40b2@yandex.ru', 'g3e-toqg-5j@rambler.ru', 'gma8f77a-@24shop.by', '86kg4n3mha@mail.ru', 'kz5z-qo0-@rambler.ru', 'd99mm4bweg1@gmail.com', 'qnktnxpzby@rambler.ru', 'yq5qbqr8zxuz@24shop.by', '_lom_t4@rambler.ru', '8nzr8y4adiru@gmail.com', 'j-v68@yandex.ru', 'bvbib2rqq8@gmail.com', 'zmnk5gz5g@rambler.ru', 'ublyn5ozj5@rambler.ru', '0o-jonz@rambler.ru', 'f3zc-yt5@24shop.by', '-avq16piy@gmail.com', '8mz_122@yandex.ru', 'aun-ok4mjemj@yandex.ru', 'c-pn222d@yandex.ru', 'uqalor@yandex.ru', '9p613p9ky6wr@rambler.ru', 'm5fs96f08f@yandex.ru', 'p0myhlgh4@rambler.ru', 'eks-u04e@gmail.com', 'w4zt4c4zv@24shop.by', 't70kxggz67m@yandex.ru', 'anw97w_z8z4f@24shop.by', '0nfa6s010@yandex.ru', '_-08ars@24shop.by', 'xd5bfn@24shop.by', 'cw9tr@rambler.ru', 'o4lr1_bu63-y@24shop.by', 't7_1_@gmail.com', '5ge8cc@yandex.ru', 'mozxyn-ei@gmail.com', 'vbfzljh@24shop.by', '_5x98tbo@mail.ru', '9tb2fy_@mail.ru', 'zqo-5mxbub0t@rambler.ru', '9_dt5s@gmail.com', '8zh27-deb0@24shop.by', 'i1p_n0@yandex.ru', '_knrancgd4e@rambler.ru', 'im0x3mmj8v@yandex.ru', '6yrlxa7f@mail.ru', '9xnvg2std@gmail.com', 'eki04ca@mail.ru', 'ugtilc5a@gmail.com', 'uufjpb@yandex.ru', 'zydpw_rwcy63@gmail.com', '74jq8050fu@24shop.by', '0-jmt-@yandex.ru', 'sr3ghyt@24shop.by', '8c6r3x5o1x4@yandex.ru', 'naq7st7gwca@rambler.ru', 'cmimmdi1h@mail.ru', '_he0wa@rambler.ru', 'mguj4hgif7@yandex.ru', '0p3vsztrbu@rambler.ru', 'mxquw8@gmail.com', '6usn0_4rx@gmail.com', 'kk6x9lwei9@mail.ru', 'k97dlu16@mail.ru', 'lrivo@gmail.com', 'btsl_6hg@yandex.ru', 's4jxarc@24shop.by', 'rwvm1mp@24shop.by', '9gvs0viic9cm@mail.ru', 'qhp_nb_r_@rambler.ru', 'lsvup6czqsu@yandex.ru', 'ao08n-6jdceq@yandex.ru', 'ma278f0j-z@rambler.ru', 'm9p3_riumv@rambler.ru', '509e3s@24shop.by', '7nqxk@mail.ru', 'ivxid@24shop.by', '_43f5yus1@yandex.ru', 'bz4616h@mail.ru', '1z6md3@24shop.by', 'zyt-zzi@mail.ru', 'rt6vwxy5bne5@rambler.ru', 'afu-ods@mail.ru', 'qc_uavzs@gmail.com', 'jehitujhr@gmail.com', '2ezpul@gmail.com', 'c6h9hj-1@rambler.ru', 'cmlyl@yandex.ru', '5r5avp479@24shop.by', 'bgaqu7me3@yandex.ru', 't2h0w_e124_@gmail.com', 't-kgu@mail.ru', '1yxp5f8lt-ue@rambler.ru', 'eydb5m@mail.ru', 'l1qi2m5kj@rambler.ru', 'rlh2b18@mail.ru', '65xnbo2rgm2@rambler.ru', 'gkbf77ss@rambler.ru', '57mr_sty@gmail.com', 'ywh1q2c@24shop.by', 'em3ayujgtzn@yandex.ru', 'pad8wcpe27y@rambler.ru', 'fwm9-ensf@rambler.ru', 'na9j93t8-ga@yandex.ru', 'nzey10qs-y@rambler.ru', 'fsannj8bw-@mail.ru', 'tgzd_9-n01@yandex.ru', 'gmy9lzi@gmail.com', '0b8zethc8o@gmail.com', '12ngy2pw-lf@gmail.com', '6gjvgrd3@rambler.ru', 'p2prg@mail.ru', 'r3hqjb-9nk@gmail.com', 'x8inqf9m_3h5@gmail.com', 'vulk4oh@24shop.by', 's8zouw@gmail.com', 'ij1b7@mail.ru', 'hdo43hc9@gmail.com', 'cs2lf@mail.ru', 'd2hl36_@rambler.ru', '6_2---cos2@mail.ru', 'twy8eg@yandex.ru', 'lanp9cezxs4@yandex.ru', 'y4t27dd6@gmail.com', 'x_97ak@gmail.com', '5vev8f2@mail.ru', 'ahqphjp33@24shop.by', 'yvnxd6xis-o@gmail.com', 'jbkyn8tqjnj2@24shop.by', 'kuj_a@gmail.com', 't7b7rg@yandex.ru', 'y81ohfu70ta@yandex.ru', 'eb77-5k@gmail.com', '7ao_emgxs@yandex.ru', 'tr3vs-4otroz@mail.ru', '331sv2l@mail.ru', '50n-p1nc@rambler.ru', '2a_2hgo@mail.ru', 'cla23lw@yandex.ru', 'j1ez88@yandex.ru', 'twxd4mto@gmail.com', 'pd3ynqazd4u-@rambler.ru', '6s5x1kkmac@24shop.by', 'bui2c1@yandex.ru', '8rip-9etk-wb@mail.ru', '5cyoxqak_x8@rambler.ru', 'i24gh@gmail.com', 'mbpv9n@yandex.ru', 'c9zsx@yandex.ru', 'mtb3fa6lb-gp@yandex.ru', '1_k1cc@rambler.ru', 'r-l6xaz120x4@rambler.ru', 'q3n_j@mail.ru', '501llbx@gmail.com', '800sr@rambler.ru', 'ywhyhxov@mail.ru', '4lnfxn-@mail.ru', 'yjpf63o0l8@gmail.com', '6n834@yandex.ru', '9atir@rambler.ru', 'bfn8wj3h@gmail.com', 'djq28fdvui8b@yandex.ru', 'g-xwwspx@rambler.ru', '9v2ddeqox3tp@yandex.ru', 'sm2omyd0j@gmail.com', '8robc@rambler.ru', 'esujq@yandex.ru', 'j3b_3s85d@mail.ru', 'ven64@mail.ru', 'r6ik7r7hp4@24shop.by', 'zqcw5gj3rk-n@yandex.ru', '_f8hux86cyn3@mail.ru', 'mcubrhe@24shop.by', '0x46n@24shop.by', 'xlhd5r@mail.ru', '2u1wgw_@yandex.ru', '7ms2vn0lb_@24shop.by', 'w36hutu@24shop.by', '790v_a-1hx@24shop.by', 'm_ijn7xjt@mail.ru', 'n0pf2nog9fqr@yandex.ru', '8avd7fnd6o@mail.ru', '94dsat@gmail.com', 'hbwuql@24shop.by', 'uxzt3axyg@mail.ru', 'yabet4h9w@24shop.by', 'ae6wb9v0@mail.ru', 'a14ery@mail.ru', 'ge53t@24shop.by', 'jamiszl@gmail.com', 'wsjydzt0@rambler.ru', 'xy4nu1dy220@gmail.com', 'hb_svjo@24shop.by', 'eta106pq08t@mail.ru', 'bpwu4b12iva@mail.ru', 'yg25m-w@rambler.ru', '7y5bn@mail.ru', '0__dr-@mail.ru', 'e6scvypa@yandex.ru', 'dym6dwh1@yandex.ru', 'q5ai3ai38ai38ai388jh8bq@24shop.by', 'vs5_7f@24shop.by', 'vedhwhu6wo@gmail.com', 'jcp8cgou_gm@gmail.com', 'q1dt5k6m@24shop.by', 'ljy1gobpy1ar@24shop.by', '_mjwkgbette@yandex.ru', 'lucjj8bwgl2-@24shop.by', '5i5ng-g9xl@rambler.ru', 'gk_zhigk15b@gmail.com', 'gv8w_k9@24shop.by', '1qmxnyadwdg@mail.ru', 'gnu4afw@mail.ru', '4x9x7i@24shop.by', 'ju7-m6tu7n1e@rambler.ru', 'e7bumkwx@rambler.ru', 'mbvncxgu_z3n@24shop.by', '6m0gais@gmail.com', 's7-jti_8@gmail.com', 'nk61itl9bui6@yandex.ru', 'v40d97dn7tt3@gmail.com', 'm-9iech@24shop.by', 'orendde9@yandex.ru', 'yk7933@yandex.ru', '9xs1-apb6@gmail.com', 'lj4xtfn@24shop.by', 'k5i66m5q@mail.ru', 'pbi7xr@24shop.by', 'ymi8spmdsxm@gmail.com', 'pij74sksp@24shop.by', '3gv-6pperep@rambler.ru', '-wz-p4@rambler.ru', 'k0os_@yandex.ru', 'v1ez0i5fz0or@rambler.ru', 'vqr5sbtophhw@24shop.by', 'hfltz937@gmail.com', 'pjsnmepb@mail.ru', 'dd-xkxn0bsb@gmail.com', '1havv1f9fv@mail.ru', 'dugej6aqiy6@gmail.com', 'dd_0viyc_b9l@gmail.com', 'rit93-a@mail.ru', 'ic-rxvsx@24shop.by', 'xj9w6k-z@yandex.ru', 'eu2mgf29@gmail.com', '786wc4l6g_p@rambler.ru', '7h6f47@rambler.ru', '7nlo7jua@mail.ru', 'o4tkvwooome9@24shop.by', 'rcyj0yy325@gmail.com', '8vqpb7ukv_@24shop.by', 'qlp0ie9glbp@rambler.ru', 'hj3-6rol@gmail.com', 'fdzxjorc7tw@24shop.by', '88u5qctsp@yandex.ru', 'x09xchnpv@24shop.by', 'ib3zw6cnmy@yandex.ru', 'bzp3liemqi@rambler.ru', '28-fx97@gmail.com', 'trrq_mfx9_w@24shop.by', 'xz-ntfo@yandex.ru', '5_o58n2n@mail.ru', '449xymsa0utt@rambler.ru', 'xb3gh4szk@gmail.com', 'hi80pan1@24shop.by', 'm2j_wf5p@24shop.by', '6p7p695m@24shop.by', 'i012zmx@rambler.ru', 'ojszjv3flry1@gmail.com', '5vr69t39rma@24shop.by', 'vpoxp@24shop.by', 'cwkcq@gmail.com', 'po35s-@rambler.ru', 'dh3qy_bh1d3@mail.ru', 'zrc-_kfkjse@gmail.com', 'ip7u-g@mail.ru', 'zpm_khlcwi@mail.ru', 'kqsc1dm4ve@mail.ru', '6f70lpk@yandex.ru', 'zxsotvx-dl@rambler.ru', '3n-0ndgh@mail.ru', 'kb_im449hj-e@24shop.by', 'q0n7i@gmail.com', 'fnziittb2sou@24shop.by', 'k5-0m29erwo4@gmail.com', '_x_9kunatm@mail.ru', 'gg6kyzjf8f@rambler.ru', 'cvp7ox@24shop.by', '5whfhk1l-v1@rambler.ru', '75o08qh@gmail.com', '27zxu@rambler.ru', 'zal25mnnapo@24shop.by', 'fucien-l3wd4@24shop.by', 'musxalkm@yandex.ru', 'c6z0-rggpz@rambler.ru', 'v6q7qbous@24shop.by', 'ktloxjanj7eo@gmail.com', 'is2910@gmail.com', 'zby6rvstf22h@rambler.ru', 'b58kz2i@rambler.ru', '_jzvee2@gmail.com', 'dcx-m7oy2x0@yandex.ru', '52o7mzi@24shop.by', '5y2ko86m1ld@yandex.ru', 'ro7f_6l@gmail.com', '_vwjqxcqgoe@24shop.by', 'hk7mrz@gmail.com', '2tint0j@mail.ru', '43_27oivxw5z@gmail.com', '6h1t6gbl2nho@mail.ru', '61pm_46z2jp4@gmail.com', 'qo-fhd@yandex.ru', '68_oxrpbpifr@rambler.ru', 'z0yq4eb6r@rambler.ru', '7_5z_o@24shop.by', 'es5lqas9530@rambler.ru', '-e_2vpck@gmail.com', 'r0yyrtsk_@24shop.by', 'gnumyj0@gmail.com', 'pftk0-@24shop.by', 'q7h7-zx@rambler.ru', 'lzynysu7ha@mail.ru', '5q0be2ps7u-n@gmail.com', '81e5y@rambler.ru', '9wv5c_uizc@24shop.by', '_2qch_pnu@rambler.ru', '153xgz@24shop.by', 'mvrln@yandex.ru', 'w2yo2n-fh10@yandex.ru', '_rl82sc@mail.ru', 'l9vdqumtnk3@yandex.ru', 'xyvcsmcf@mail.ru', 'sz_e3@mail.ru', 'rh8p_h6@yandex.ru', '-iokapyzy-mz@yandex.ru', 'gl1xfi94ht3@rambler.ru', 'j9_loy@yandex.ru', '41qsm@rambler.ru', 'c5sp3eap3s@24shop.by', '-no8buf8m4@mail.ru', '_b3jmfu@rambler.ru', 'wrbcqlco@yandex.ru', '5q2begq@mail.ru', 'e0qg-hqm@gmail.com', 'nx61tzdm707@yandex.ru', 'lsjxkmpjzf@yandex.ru', '39i2r@gmail.com', 'hi-jso-o@gmail.com', 'avg3jug0f@rambler.ru', '5l6ez@24shop.by', 'fq5nn@yandex.ru', 'npfcsr@rambler.ru', 's4xz7_hbg@mail.ru', 'mjp-1vfk7uq@mail.ru', 'vs16uxo96@24shop.by', 'jqacerxc4ai_@rambler.ru', 't30z2unmh2t@gmail.com', 'h3gr51@24shop.by', 'u71ok3y4lfwm@gmail.com', 'r-n5um-@gmail.com', 'pde0i3ndya@rambler.ru', 'pye8wzp@gmail.com', 'j06sa_abp8iz@yandex.ru', 'ryvhsqkli7_@yandex.ru', 'slnp2y@mail.ru', 'en_z98dma@rambler.ru', 'mhyct98hik-f@rambler.ru', 'y9lrpwyer@gmail.com', '2ypa59jexj@gmail.com', 'xfjqz3jo3@24shop.by', '1opj157qi_y1@24shop.by', 'ne4p-sjuk@24shop.by', 'uacmcyj@gmail.com', 'okkiph@rambler.ru', 'clb0p8p@gmail.com', '0cbuc9@rambler.ru', '4gyy1@mail.ru', 'g62kq@gmail.com', '-gsgmdx8ecfq@24shop.by', 'fqcteu8@yandex.ru', 'am3b6tpit2@rambler.ru', 'y0codsl63va_@mail.ru', '-aul-@rambler.ru', 'r59wiysrho@yandex.ru', 'a6lspuk@yandex.ru', 'q8c0nffyl0c@yandex.ru', 'o006tpn@yandex.ru', 'rrrfcx@24shop.by', '83-usx6kjv@24shop.by', '395fmno@gmail.com', 'aiiozd7@gmail.com', 'a7gfijayd@gmail.com', '5jfyqdve9n@rambler.ru', 'twrcc_p@mail.ru', '0v7ala_c@rambler.ru', 'ig4i6@yandex.ru', '9a12zks1@yandex.ru', '83m7r-@mail.ru', '71_c7wf_dqwh@24shop.by', 'ohojup@gmail.com', 'y-za7a@rambler.ru', '6tgxlbe@rambler.ru', 'p2sgjg2zl14@24shop.by', '2r2k3we6dc2@yandex.ru', 'f62x2w7@yandex.ru', 'o3xico@rambler.ru', '9bx5zrt@mail.ru', 'c3jgbu-5m8j@mail.ru', '0jropm8hgq2q@rambler.ru', '4diie@rambler.ru', '9wd7-gddsxv1@24shop.by', '4wngbs3p-r@mail.ru', '0r6tqaxwx@24shop.by', 'q046bax29@yandex.ru', '6eh8vuaoltb2@rambler.ru', '9o73if@rambler.ru', '0svyn0ve@yandex.ru', '7nnzjz8_4@mail.ru', 'n76pno-2h@mail.ru', 'tu-53hr65@mail.ru', 'udys5g8b-u@24shop.by', '31vszk@yandex.ru', 'tqm5tkt8x@rambler.ru', 'c1i48214g@24shop.by', '6mijmk4@mail.ru', 'w-mcc@yandex.ru', 'ui7qu@rambler.ru', 'etxa1@mail.ru', 'q6k_v3xk2rig@gmail.com', 'r8p61mzs@24shop.by', 'gb5zmhdubf@rambler.ru', '5fx9gwtx@yandex.ru', 'b_bibms@yandex.ru', '83qdp538il@24shop.by', 'gvtw1ax@yandex.ru', '809_-0@mail.ru', 'ohct20e@24shop.by', 'dpjc_ru8hn8h@yandex.ru', '5wtrvliv0_@yandex.ru', 'xnr1jf0le_p@24shop.by', 'dum6z69t@rambler.ru', 'ncfjwgvw-ai@24shop.by', 'jxvp8w@24shop.by', '2qg9g5_qgchb@gmail.com', 'jl8fh1r@mail.ru', 'dooix7y@yandex.ru', 'mxxo55@gmail.com', 'cg39xykd78q4@rambler.ru', '5r7k8o@yandex.ru', '34vj9xphf5h_@24shop.by', 'duwbmb0ov@24shop.by', 'jesf0yij@mail.ru', 'yp36nugru2l@rambler.ru', 'rr_v8p-wf@yandex.ru', '3if4ta@mail.ru', '-pe1w0y@rambler.ru', '5dzqn1ed@mail.ru', 'jtmu895@rambler.ru', 'm_2gikc_e8@rambler.ru', 'x8_r81vg@gmail.com', '-_jx9@gmail.com', 'ftfe6zyzel@24shop.by', '8sweb0gyb8@mail.ru', '-bku4qym08w@mail.ru', '99s-wegtij@mail.ru', '4394c02-ik76@gmail.com', '2hu76ivzhe@rambler.ru', 'lm9tdltw@24shop.by', '6enbdq5g7@rambler.ru', 'fluc0gc@gmail.com', 'ot5q6@yandex.ru', 'bihej@24shop.by', 'aoqeyr7rw1oj@rambler.ru', '7cqcj5@gmail.com', 'us-mboes0@rambler.ru', 'nqz8gt3e8zx@rambler.ru', 'wn3r-4x1sng@gmail.com', 'rfsnih6q@mail.ru', 'l1bozw@rambler.ru', '5b_l95t@gmail.com', 'gpkb-4f3px@gmail.com', '57szw0@mail.ru', 'l6ocmxtq@mail.ru', 'f9nwtx-@yandex.ru', 'h2sq8@yandex.ru', '1b36o26jba5@yandex.ru', 'uegkkf_@yandex.ru', '28hoht4e@yandex.ru', 'hj1jdhgp@rambler.ru', 'o9657x4_o@yandex.ru', 'j8cfwdapw@24shop.by', 'gc1t5re@mail.ru', 'nfys1e2ee@rambler.ru', '6390kg6cha8q@24shop.by', 'rb2eqcv3287@rambler.ru', '5vjbuksv958-@mail.ru', 'yfhm2c@24shop.by', 'z24obkouhk@gmail.com', 'wqltv2ob_@yandex.ru', 'rnqzn36-@rambler.ru', '24xw14lu51ld@yandex.ru', 'tv7ig53q0@rambler.ru', '0omjnm@24shop.by', '1h0a-xlcigc_@rambler.ru', 'zuf5k@gmail.com', 'gq19_mqtl@gmail.com', '3-le9ie@mail.ru', 'nicr4@yandex.ru', '872kl_@24shop.by', '1g2ir3tuvwg@gmail.com', 'u3f3d@rambler.ru', 'lb_88azw7j@rambler.ru', 'd3f680qyy62@yandex.ru', 'btp26gn73djb@yandex.ru', 'y4cu7z2qg@rambler.ru', 'qdjym_gj71ac@24shop.by', 'j5_mbi_srcb@yandex.ru', '6yzzr@yandex.ru', 'd41wppwh@yandex.ru', 'c5avz1ej@24shop.by', 'vbvktpox@gmail.com', '00xtex8aq@24shop.by', 'ip6-m@rambler.ru', 'wzv96mph@rambler.ru', '1ejw-qcbvfg5@yandex.ru', 'zw4n1d2w7nz@rambler.ru', 'vrrr0vr5gh@rambler.ru', 'x0pevg1@rambler.ru', 'r6cwk@mail.ru', 'u9zpahewh4zf@yandex.ru', 'l7qqgq@24shop.by', '_4krfp@gmail.com', 'p_rhzsyro@yandex.ru', 'w0igbreg3@yandex.ru', 'uomtaaqs@gmail.com', 'dxw--5bfmw@gmail.com', '4y_u6x@yandex.ru', '57d7vtk@rambler.ru', 'xm7vd9@24shop.by', 'h7-9zd@rambler.ru', 'kt129f@24shop.by', 'hpac-da_0p5l@gmail.com', 'kge2o3@24shop.by', 'q39_--7if@yandex.ru', 'ju3j2-vafz5@mail.ru', 'qdlyc8jeg@gmail.com', '2fb-xux@yandex.ru', 'm2laam201hkk@rambler.ru', 'g4l_-_@rambler.ru', 'zemxma-@24shop.by', 'n3chf4x4j@24shop.by', '98v2zdc08nq@yandex.ru', '1n800p7z@yandex.ru', 'v9zlxv5f@mail.ru', '1umxb-4nr6at@gmail.com', 'kq-kxpzs@24shop.by', 'xxr2c3s_l@gmail.com', '-c1jx21n6o@mail.ru', '4xagoz@yandex.ru', 'ykhpb317@yandex.ru', 't-ek84r6@24shop.by', 'wob_ojhoal@24shop.by', 'dr-b7au61@mail.ru', 'p0nrbrkrr5p0@mail.ru', 'dkn4oymmc1h-@yandex.ru', 'vh16ponbg@24shop.by', 'wr1gb9t_ari@gmail.com', 'yipei-np-@24shop.by', '564e6ydn6@24shop.by', 'otl1h1rjd@yandex.ru', '-zvmr6zgi@gmail.com', 'j2org4aqxr@rambler.ru', 'jvidjw3o@gmail.com', '0smbavwz@rambler.ru', 'vxvb5xic0@24shop.by', 'b_4d0x7icx@rambler.ru', '_g80nsua@rambler.ru', '1r9-g@rambler.ru', '5prqmh-q-@yandex.ru', '9awzw7@mail.ru', 'eow14re@mail.ru', 'hz3cb7nzxde@yandex.ru', 'xkfsz@gmail.com', 'h3yr21qd@gmail.com', 'ij30ur0uejk2@yandex.ru', 'i3jb2ic3w@rambler.ru', 'odii90@yandex.ru', 'i0bdo8awv@24shop.by', '8ivhgnb4nx_r@mail.ru', 'jibt0awg8hz@gmail.com', 'd_rn4fg7je3@gmail.com', '5mb54@yandex.ru', 'lgnj7sez@yandex.ru', '2p0rhtc7x@mail.ru', '5bjyodite@24shop.by', 'q8pak-0quca6@yandex.ru', '0fns6@24shop.by', 'i9bsyhugho59@gmail.com', 'uxxht3im7t@24shop.by', 'fclet0_wr91@24shop.by', 'zxi20z@mail.ru', 'xw1y5@mail.ru', 'j-9b9i@24shop.by', 'uagle6wpl-if@mail.ru', 'qa1t5p@gmail.com', 'zizkn@yandex.ru', 'udspts0j@24shop.by', 'e7otxbrc--@yandex.ru', 'zgtpp@rambler.ru', 'jx5ppzpulz@yandex.ru', 'l74sf_a@yandex.ru', 'ek_ar2wg@24shop.by', 'pus7h0z@gmail.com', '_-1d6598m91h@mail.ru', 'akyt3tidtaf@gmail.com', '39qg0@gmail.com', 'mqc7-a0dt@mail.ru', 'glpytel-xlh6@gmail.com', 'jwbw3g@gmail.com', 'cd3pq@24shop.by', 'sdk-_259zeq-@yandex.ru', 'dqnjyi0xp@gmail.com', 'mexvg7@rambler.ru', '24hyx61ges@yandex.ru', 'v22psamqbp@mail.ru', 'kxci0m-gb@24shop.by', 'c5mkf783u7@24shop.by', 'z55l7m@24shop.by', 'aua3wl6_f@mail.ru', '5wgo633t@24shop.by', '-ycb38@yandex.ru', '2in8-j_k87o@mail.ru', '0ouddm@mail.ru', 'dpv6t2l-q0@24shop.by', '5_o8dh@yandex.ru', 'vc030rsgsz@rambler.ru', 'q0rn2rnz@mail.ru', '_teg0g@mail.ru', '3lykogawbjf9@yandex.ru', 'd0p267ea2j@rambler.ru', 'q73x6p@rambler.ru', 'v-gbjjrrj9@gmail.com', 'qsy66fr@gmail.com', 'nqrvtoa8ap@yandex.ru', 'ronsf@24shop.by', '97btf3spcl@rambler.ru', 'fk4lwds@24shop.by', 'sb5iv1uld18@rambler.ru', '8plo80@mail.ru', '44k-3vqkx4@mail.ru', '1e_cp40u5r2@yandex.ru', '4wr8u@mail.ru', 'xum8kk@rambler.ru', 'xipuwc9t8jne@gmail.com', '-mbj2ivks3@yandex.ru', '8vh1du@rambler.ru', 'bu2kuw1e@mail.ru', 'ru37bd_0z9@24shop.by', '3uw90@gmail.com', '5lxdkw2cb58z@gmail.com', '71ysuz-1no@gmail.com', '-o3ogbm@24shop.by', 'a-k-l88r@yandex.ru', 'reuz2u7xr071@yandex.ru', '-w5y5dzqxkq@gmail.com', '2o3gf@rambler.ru', '7w1rdb1gvc2p@24shop.by', 'sex-mz35_3f@mail.ru', 'czbcx_jndnu@rambler.ru', '_srxm0@gmail.com', 'pf3hsw@gmail.com', 'uxnnla42cn@gmail.com', 'bx2h9f8rgazf@yandex.ru', '6el1d0j@mail.ru', 'nl38ev@mail.ru', 'putrq3aue@mail.ru', 'ouugd_glv3@mail.ru', '-ab_c@24shop.by', '_vxuik9uhfp@rambler.ru', '63hwob0z@rambler.ru', '5we7-n-z@gmail.com', '6v94rpfui9e@gmail.com', 'ca6zxhk@rambler.ru', 'ndg40pxhko@yandex.ru', '1rqsei7@mail.ru', 'canstg3fq8@24shop.by', 'shjb8rzw@yandex.ru', 'zb4ibb_wsm@24shop.by', '28uf_zdzv@24shop.by', '8iep9xurnb@mail.ru', 'mdqma@gmail.com', 'w-ok6sjqq33@24shop.by', 'pjho0@mail.ru', 'hyo45-uho@24shop.by', '5fui2z@mail.ru', 'f2oszt88mkn9@mail.ru', 'a-s65e@24shop.by', 'ul2dn@rambler.ru', 'vrl10@gmail.com', '-x8hr@24shop.by', '3ycjqo@rambler.ru', '2ogti@gmail.com', 'ywcahd2@24shop.by', '1we79a2k7l@gmail.com', 'wjemirbts@24shop.by', '2-8ks36q3u@mail.ru', 'wdayx4i@24shop.by', '951k37@rambler.ru', '6kb534aea-w@rambler.ru', '6xw855da7z@24shop.by', 'fu3xpgut5det@rambler.ru', '0id-dmy63k@rambler.ru', 'zs-4p@rambler.ru', '5rhp5@gmail.com', '8e-n38yo_n2f@24shop.by', 'h5-xf@mail.ru', '5yj-ow@gmail.com', '41tk_8fu@24shop.by', '9e0vgb9et_9@rambler.ru', 'rxktx@rambler.ru', 'id-iix@gmail.com', 'j692znvq1ccx@yandex.ru', 'dnw__@mail.ru', '2wim55@rambler.ru', '1btwb@mail.ru', '0jr71owcwqr@rambler.ru', 'xdy3tt9r6sx@24shop.by', 'oejcqbevm@24shop.by', '00cgpa8g0py-@rambler.ru', 'w11yxf-67@gmail.com', 'fz6k8sfh856@24shop.by', 'utv6lwzoa4n4@gmail.com', 'vqascm_m@mail.ru', '199jv4o34@mail.ru', 'lvtja@mail.ru', 'n0gan80uo0@mail.ru', 'i1-nso60@gmail.com', 'y1je3@24shop.by', '0gzrbf@mail.ru', 'tn6pw-1q@mail.ru', '44nz0h8s0@gmail.com', 'juxt5-j88@yandex.ru', 'ncejw8rf5b6@rambler.ru', 'ukqzre@24shop.by', 'd766s9dwhl@yandex.ru', '9tcxpfuf@gmail.com', 'wd_vq520o0@24shop.by', '816d0b5@24shop.by', 'aszxu7gujakx@rambler.ru', 'l8rnxq08@yandex.ru', '6vvpa3ea@mail.ru', '9hycbvsbqe@mail.ru', 'q_-jl_cf2y@yandex.ru', '2u2ab0jp@rambler.ru', 'm3dlq9d@gmail.com', 'ubm_2qnpq@24shop.by', '1lgdp@yandex.ru', 'qxybz_ii6qp@yandex.ru', 'tvjz7quei3i@24shop.by', 'mm15d76k@mail.ru', '9hxcuxpk7n@mail.ru', '0ujukq-y@rambler.ru', 'gyx7wcno9r@rambler.ru', 'cf8z1d7@rambler.ru', 'xnz6ifp_x@yandex.ru', 'o31cy@24shop.by', 'xx6psfem5eo6@24shop.by', 'u7tys_5tt@24shop.by', 'oeb6p@mail.ru', 'xrr4z@yandex.ru', 'iz94d2m4m0vn@rambler.ru', '_ubuxqdt2x@gmail.com', '59hjt48q@mail.ru', 'prhc6-rlik@mail.ru', '3u5t5bw6@mail.ru', 'rn4voz@gmail.com', '_q0os@24shop.by', 'p0fid@mail.ru', 'qhxzlh6@yandex.ru', '22r0g@gmail.com', '4mohv@rambler.ru', 'x_f-owtrs@gmail.com', 'b-y_zqu-v@24shop.by', 'p3x0p@24shop.by', 'l4ekdk@rambler.ru', 'kpt-rvidem@24shop.by', 'mrvf7tmvqyh6@gmail.com', '2hmx6_b@gmail.com', 'q_g1i@rambler.ru', 'a0uny1wjcbm@mail.ru', 'c35ono@gmail.com', 'ay8c1j@rambler.ru', '3vf2kz6y@gmail.com', 'r_mtr7mzg@yandex.ru', '6x8gx@mail.ru', 'hjpivn@rambler.ru', '73d5a22@gmail.com', 'crjh_@mail.ru', '06x7ow9e@rambler.ru', 'z9cxip@24shop.by', '9b8shj7@yandex.ru', '0u2ji9qzujz@mail.ru', 't_kk-q@rambler.ru', 'lo20s549@24shop.by', 'tyc5mk5f6xa5@rambler.ru', 'ohlrup6_y@yandex.ru', '1i_6l_5_wj@yandex.ru', 'xwjh56yr0@rambler.ru', 'scymkc@yandex.ru', 'ulq4gi4c@mail.ru', 'n2a2k@gmail.com', 'mlq8c7o235@yandex.ru', 'gq__gz3ldl_@24shop.by', 'u4uqx6nyw@yandex.ru', '0zt8esq@mail.ru', '05ul00fpov@rambler.ru', 'mpgky@rambler.ru', 'grgn95v75@mail.ru', 'bt-yatfa3y@rambler.ru', 'qdoe9@rambler.ru', '4i6w0ps_v4f@gmail.com', 'fyna4@rambler.ru', '4zfcu499-nuj@yandex.ru', 'mxudia3gwk6@rambler.ru', '3bw95w@mail.ru', '55dy6wryf@24shop.by', 'b-4bwf@mail.ru', 'ojzhm9@gmail.com', '-cbihmuvoo@gmail.com', 'dz0x05bq5@rambler.ru', 'lxg3jd9xtc@24shop.by', 'c596u@rambler.ru', 'getu5r0yc7l@gmail.com', 'sojngy@gmail.com', 'p_sm0_g@rambler.ru', 'ykajq@gmail.com', '5jwlyu26qnsa@gmail.com', 'tl1exq58bvb@gmail.com', 'hlj3w6glj@24shop.by', 'q9ef60@yandex.ru', 'b3cig-s4_pej@mail.ru', '0vavsdryy@mail.ru', 'wv677fcbg@gmail.com', '2_og8@mail.ru', '9_kro0ttjrl@gmail.com', 'huyc9swafqu@mail.ru', 'mebtcwxtz@mail.ru', 'u_6dxn8fab@24shop.by', 'n0ds3e@rambler.ru', 'igbo3trx5@yandex.ru', '7jvo2@yandex.ru', '_32hef_wv25y@24shop.by', '_w53eg@rambler.ru', 'wvkl_@mail.ru', '3ietabb5yedy@24shop.by', 'rxzi5bjisq46@gmail.com', '-i4svymkh8@gmail.com', 'kws416@24shop.by', '912ix2h-k@yandex.ru', 'cy-42ta3lu@mail.ru', 'u-g8nslo1@rambler.ru', 'yfq4cqumko6b@yandex.ru', 'y53ce7@gmail.com', 'xooyu86y@24shop.by', 'a62o0wzb9@yandex.ru', '3ecizr@rambler.ru', 'htm5dys543@gmail.com', 'kvyxyz-h@yandex.ru', 'ceaisk-ih@mail.ru', 'mu6qpstv0@gmail.com', 'ygsmw-0-55w@mail.ru', '51b120@rambler.ru', '-c63vdhljm55@mail.ru'}\n"
     ]
    }
   ],
   "source": [
    "emails_clean = set() \n",
    "emails_test = set()\n",
    "\n",
    "for email in emails:\n",
    "    if pd.isna(email) or not isinstance(email, str): # пропускаю NaN и нестроковые значения\n",
    "        continue\n",
    "    if '@' not in email: #проверяю наличие @\n",
    "        continue    \n",
    "    normalized_email = email.lower().replace(\" \", \"\").replace(\",\", \".\") # нижний регистр, убираю пробелы, запятую меняю на точку\n",
    "    if 'test' in normalized_email and '@24shop.by' in normalized_email:\n",
    "        emails_test.add(normalized_email)    \n",
    "    else:\n",
    "        emails_clean.add(normalized_email)\n",
    "\n",
    "# Для визуального контроля\n",
    "print(\"-----\\nТестовые:\", emails_test)\n",
    "print(\"-----\\nЧистые:\", emails_clean)"
   ]
  },
  {
   "cell_type": "markdown",
   "id": "8b961eb8-4f7f-4363-b559-b41044ce897b",
   "metadata": {},
   "source": [
    "## Выгрузка в CSV"
   ]
  },
  {
   "cell_type": "code",
   "execution_count": 349,
   "id": "fb6dee2c-6799-4771-8dc7-2a24cddf01fb",
   "metadata": {},
   "outputs": [
    {
     "name": "stdout",
     "output_type": "stream",
     "text": [
      "Получено из Excel 1008 строк\n",
      "Выгружено в CSV 947 чистых email\n",
      "Отбраковано 41 тестовых email\n"
     ]
    }
   ],
   "source": [
    "pd.DataFrame(list(emails_clean)).to_csv('emails_clean.csv', index=False, header=False) #в csv, без заголовка\n",
    "\n",
    "print(f\"Получено из Excel {len(df)} строк\")\n",
    "print(f\"Выгружено в CSV {len(emails_clean)} чистых email\")\n",
    "print(f\"Отбраковано {len(emails_test)} тестовых email\")"
   ]
  }
 ],
 "metadata": {
  "kernelspec": {
   "display_name": "Python 3 (ipykernel)",
   "language": "python",
   "name": "python3"
  },
  "language_info": {
   "codemirror_mode": {
    "name": "ipython",
    "version": 3
   },
   "file_extension": ".py",
   "mimetype": "text/x-python",
   "name": "python",
   "nbconvert_exporter": "python",
   "pygments_lexer": "ipython3",
   "version": "3.12.4"
  }
 },
 "nbformat": 4,
 "nbformat_minor": 5
}
