{
 "cells": [
  {
   "cell_type": "markdown",
   "id": "cf9393d7-fe71-423a-ba62-10f6c948132b",
   "metadata": {},
   "source": [
    "# Калькулятор метрик покупок"
   ]
  },
  {
   "cell_type": "code",
   "execution_count": 40,
   "id": "19cfafe2-5cb5-42bc-a63c-04ef571af9b9",
   "metadata": {},
   "outputs": [],
   "source": [
    "def calculate_metric(data, metric='revenue'):\n",
    "    \"\"\"\n",
    "    Считает метрики по данным о покупках пользователей.\n",
    "\n",
    "    На вход принимает:\n",
    "    data - список списков с числами (покупками пользователей)\n",
    "    metric - расчет нужной метрики\n",
    "\n",
    "    Доступные метрики:\n",
    "    'revenue' - общая сумма всех покупок\n",
    "    'orders' - общее количество покупок\n",
    "    'paying_users' - количество пользователей\n",
    "    'aov' - средний чек (общая сумма / количество покупок)\n",
    "    'aov_alt' - среднее значение средних чеков пользователей\n",
    "\n",
    "    Возвращает число (для средних чеков - округленное до 2 знаков).\n",
    "    Если метрика неизвестна - печатает ошибку.\n",
    "    \"\"\"\n",
    "    \n",
    "    revenue = sum(sum(x) for x in data)\n",
    "    orders = sum(len(x) for x in data)\n",
    "    paying_users = len(data)\n",
    "\n",
    "    if metric == 'revenue':\n",
    "        return revenue\n",
    "    elif metric == 'orders':\n",
    "        return orders\n",
    "    elif metric == 'paying_users':\n",
    "        return paying_users\n",
    "    elif metric == 'aov':\n",
    "        return round(revenue / orders, 2)\n",
    "    elif metric == 'aov_alt':\n",
    "        user_avg = (sum(purchases) / len(purchases) for purchases in data)\n",
    "        return round(sum(user_avg) / paying_users, 2)\n",
    "    else:\n",
    "        print(f\"Неизвестная метрика: {metric}. Доступные: 'revenue', 'orders', 'paying_users', 'aov', 'aov_alt'\")"
   ]
  },
  {
   "cell_type": "markdown",
   "id": "09638236-9bb0-4c5d-bf9f-156edf69e1f9",
   "metadata": {},
   "source": [
    "### Датасет: транзакции интернет-гипермаркета (Беларусь, BYN)"
   ]
  },
  {
   "cell_type": "code",
   "execution_count": 42,
   "id": "359aac09-78fe-4f12-b91c-4680f3c0f7eb",
   "metadata": {},
   "outputs": [],
   "source": [
    "data = [\n",
    "    [49.90, 85.20, 120.50],      \n",
    "    [1499.00],                    \n",
    "    [345.20, 89.90],             \n",
    "    [59.90, 85.40, 129.90],       \n",
    "    [2450.00, 899.00],             \n",
    "    [79.40, 125.50, 450.00],      \n",
    "    [1290.00, 550.00],             \n",
    "    [65.60, 145.40],               \n",
    "    [3490.00],                     \n",
    "    [89.90, 65.30, 124.30]         \n",
    "]"
   ]
  },
  {
   "cell_type": "markdown",
   "id": "94609951-5100-4a8b-8248-03d493c490f3",
   "metadata": {},
   "source": [
    "###  Примеры использования:"
   ]
  },
  {
   "cell_type": "code",
   "execution_count": 44,
   "id": "7cfcd885-fc55-4873-85b0-5dc240e45fd2",
   "metadata": {},
   "outputs": [
    {
     "data": {
      "text/plain": [
       "12289.3"
      ]
     },
     "execution_count": 44,
     "metadata": {},
     "output_type": "execute_result"
    }
   ],
   "source": [
    "# по умолчанию считает revenue:\n",
    "calculate_metric(data)"
   ]
  },
  {
   "cell_type": "code",
   "execution_count": 46,
   "id": "d7f05e6c-b5e1-4be1-9b72-de07e9f82fdd",
   "metadata": {},
   "outputs": [
    {
     "data": {
      "text/plain": [
       "10"
      ]
     },
     "execution_count": 46,
     "metadata": {},
     "output_type": "execute_result"
    }
   ],
   "source": [
    "# явное указание метрики: \n",
    "calculate_metric(data, metric='paying_users')"
   ]
  },
  {
   "cell_type": "code",
   "execution_count": 48,
   "id": "dcfdbe9a-cf2f-444d-ac30-ae65db1f057b",
   "metadata": {},
   "outputs": [
    {
     "name": "stdout",
     "output_type": "stream",
     "text": [
      "Неизвестная метрика: total_gross. Доступные: 'revenue', 'orders', 'paying_users', 'aov', 'aov_alt'\n"
     ]
    }
   ],
   "source": [
    "# Неизвестная метрика (ошибка)\n",
    "calculate_metric(data, metric='total_gross')"
   ]
  }
 ],
 "metadata": {
  "kernelspec": {
   "display_name": "Python 3 (ipykernel)",
   "language": "python",
   "name": "python3"
  },
  "language_info": {
   "codemirror_mode": {
    "name": "ipython",
    "version": 3
   },
   "file_extension": ".py",
   "mimetype": "text/x-python",
   "name": "python",
   "nbconvert_exporter": "python",
   "pygments_lexer": "ipython3",
   "version": "3.12.4"
  }
 },
 "nbformat": 4,
 "nbformat_minor": 5
}
